{
 "cells": [
  {
   "cell_type": "markdown",
   "metadata": {},
   "source": [
    "IMPORTAR BIBLIOTECAS"
   ]
  },
  {
   "cell_type": "code",
   "execution_count": 1,
   "metadata": {},
   "outputs": [],
   "source": [
    "import pandas as pd"
   ]
  },
  {
   "cell_type": "code",
   "execution_count": 2,
   "metadata": {},
   "outputs": [],
   "source": [
    "import matplotlib.pyplot as plt"
   ]
  },
  {
   "cell_type": "markdown",
   "metadata": {},
   "source": [
    "LER ARQUVIO CSV"
   ]
  },
  {
   "cell_type": "code",
   "execution_count": 3,
   "metadata": {},
   "outputs": [],
   "source": [
    "df = pd.read_csv('ProuniRelatorioDadosAbertos2020.csv', sep=';', encoding='latin-1')\n"
   ]
  },
  {
   "cell_type": "markdown",
   "metadata": {},
   "source": [
    "CRIANDO UM GRÁFICO"
   ]
  },
  {
   "cell_type": "code",
   "execution_count": 4,
   "metadata": {},
   "outputs": [],
   "source": [
    "regiao = df['REGIAO_BENEFICIARIO'].value_counts()"
   ]
  },
  {
   "cell_type": "code",
   "execution_count": 5,
   "metadata": {},
   "outputs": [],
   "source": [
    "cor = df['RACA_BENEFICIARIO'].value_counts()"
   ]
  },
  {
   "cell_type": "code",
   "execution_count": null,
   "metadata": {},
   "outputs": [],
   "source": [
    "regiao.plot(kind='pie', autopct='%1.1f%%')\n",
    "plt.xlabel(\"Regiao\")\n",
    "plt.ylabel(\"\")\n",
    "plt.title('DISTRIBUIÇÃO DE BOLSAS POR REGIÃO')\n",
    "plt.show()"
   ]
  },
  {
   "cell_type": "code",
   "execution_count": null,
   "metadata": {},
   "outputs": [],
   "source": [
    "cor.plot()\n",
    "plt.xlabel('Categoria')\n",
    "plt.ylabel('Número de bolsas')\n",
    "plt.title('DISTRIBUIÇÃO DE BOLSAS POR COR')\n",
    "plt.show()"
   ]
  },
  {
   "cell_type": "markdown",
   "metadata": {},
   "source": [
    "GERANDO PDF COM FPDF"
   ]
  },
  {
   "cell_type": "code",
   "execution_count": 8,
   "metadata": {},
   "outputs": [],
   "source": [
    "from fpdf import FPDF"
   ]
  },
  {
   "cell_type": "code",
   "execution_count": 9,
   "metadata": {},
   "outputs": [],
   "source": [
    "pdf = FPDF(orientation='p', unit='mm', format='A4')"
   ]
  },
  {
   "cell_type": "code",
   "execution_count": 10,
   "metadata": {},
   "outputs": [],
   "source": [
    "pdf.add_page()\n"
   ]
  },
  {
   "cell_type": "code",
   "execution_count": 11,
   "metadata": {},
   "outputs": [],
   "source": [
    "pdf.set_font(\"Helvetica\", size=16, style='B')"
   ]
  },
  {
   "cell_type": "code",
   "execution_count": null,
   "metadata": {},
   "outputs": [],
   "source": [
    "pdf.cell(w=0, h=10,text=\"DISTRIBUIÇÃO DE BOLSAS POR COR E REGIÃO\", align='c')"
   ]
  },
  {
   "cell_type": "code",
   "execution_count": 13,
   "metadata": {},
   "outputs": [],
   "source": [
    "pdf.ln(10)"
   ]
  },
  {
   "cell_type": "code",
   "execution_count": 14,
   "metadata": {},
   "outputs": [],
   "source": [
    "pdf.set_font(size=14)"
   ]
  },
  {
   "cell_type": "code",
   "execution_count": null,
   "metadata": {},
   "outputs": [],
   "source": [
    "pdf.cell(0, 15, \"SOBRE O PROUNI\", align='c')\n"
   ]
  },
  {
   "cell_type": "code",
   "execution_count": 16,
   "metadata": {},
   "outputs": [],
   "source": [
    "pdf.ln(15)"
   ]
  },
  {
   "cell_type": "code",
   "execution_count": null,
   "metadata": {},
   "outputs": [],
   "source": [
    "pdf.set_font(size=12)\n",
    "pdf.multi_cell(w=0,h=5, text=\"Sabe-se que o PROUNI é um programa do Ministério da Educação que visa disponibilizar bolsas de estudo integrais e parciais em instituições particulares de ensino superior, promovendo a capacitação e desenvolvimento da população brasileira, entretanto com base na análise dos dados do PROUNI 2020, obtidos no site do MEC, é possível perceber alta disparidade na presença de povos indígenas comparados a outras cores ou raças.\", align='j')"
   ]
  },
  {
   "cell_type": "code",
   "execution_count": 18,
   "metadata": {},
   "outputs": [],
   "source": [
    "pdf.ln(10)"
   ]
  },
  {
   "cell_type": "code",
   "execution_count": null,
   "metadata": {},
   "outputs": [],
   "source": [
    "pdf.cell(w=0,h=5, text=\"O gráfico abaixo demonstra tamanha diferença, pode-se dizer que sua participação é próxima a zero.\")"
   ]
  },
  {
   "cell_type": "code",
   "execution_count": 20,
   "metadata": {},
   "outputs": [],
   "source": [
    "\n",
    "cor.plot()\n",
    "plt.title('Bolsas por cor ou raça')\n",
    "plt.ylabel(\"\")\n",
    "plt.xlabel(\"\")\n",
    "plt.savefig('graphic_cor.png')\n",
    "plt.close()"
   ]
  },
  {
   "cell_type": "code",
   "execution_count": null,
   "metadata": {},
   "outputs": [],
   "source": [
    "pdf.image('graphic_cor.png', x=25, y=80, w=150)"
   ]
  },
  {
   "cell_type": "code",
   "execution_count": 22,
   "metadata": {},
   "outputs": [],
   "source": [
    "regiao.plot(kind='pie', autopct='%1.1f%%')\n",
    "plt.title('Bolsas por região')\n",
    "plt.ylabel(\"\")\n",
    "plt.savefig('graphic_regiao.png')\n",
    "plt.close()"
   ]
  },
  {
   "cell_type": "code",
   "execution_count": 23,
   "metadata": {},
   "outputs": [],
   "source": [
    "pdf.add_page()"
   ]
  },
  {
   "cell_type": "code",
   "execution_count": null,
   "metadata": {},
   "outputs": [],
   "source": [
    "pdf.cell(w=0, h=10,text=\"DISTRIBUIÇÃO DE BOLSAS POR REGIÃO\", align='c')"
   ]
  },
  {
   "cell_type": "code",
   "execution_count": 25,
   "metadata": {},
   "outputs": [],
   "source": [
    "pdf.ln(15)"
   ]
  },
  {
   "cell_type": "code",
   "execution_count": null,
   "metadata": {},
   "outputs": [],
   "source": [
    "pdf.multi_cell(w=0, h=5, text=\"Dados do Censo de 2022 revelam que o Brasil tem 1,7 milhão de indígenas, 44,48% da população está localizada no norte do país (Os dados obtidos no arquivo são de 2020, porém não houve Censo em 2020 devido às consequências da pandemia, e em 2021 devido ao corte de gastos)\",align='j')"
   ]
  },
  {
   "cell_type": "code",
   "execution_count": 27,
   "metadata": {},
   "outputs": [],
   "source": [
    "pdf.ln(10)"
   ]
  },
  {
   "cell_type": "code",
   "execution_count": null,
   "metadata": {},
   "outputs": [],
   "source": [
    "pdf.cell(w=0,h=5, text=\"Como ilustrado no gráfico, o número de bolsas na região norte era de apenas 9,8%\")"
   ]
  },
  {
   "cell_type": "code",
   "execution_count": null,
   "metadata": {},
   "outputs": [],
   "source": [
    "pdf.image('graphic_regiao.png', x=25, y=60, w=150)"
   ]
  },
  {
   "cell_type": "code",
   "execution_count": 30,
   "metadata": {},
   "outputs": [],
   "source": [
    "pdf.ln(130)"
   ]
  },
  {
   "cell_type": "code",
   "execution_count": null,
   "metadata": {},
   "outputs": [],
   "source": [
    "pdf.multi_cell(w=0,h=5, text=\"Ao analisar que a região que contém a maioria da população indígena é uma das que menos possui bolsas e o PROUNI é um meio facilitador para sua inserção, insere-se que não há expressão destes povos nas faculdades.\")"
   ]
  },
  {
   "cell_type": "code",
   "execution_count": 32,
   "metadata": {},
   "outputs": [],
   "source": [
    "pdf.ln(10)"
   ]
  },
  {
   "cell_type": "code",
   "execution_count": null,
   "metadata": {},
   "outputs": [],
   "source": [
    "pdf.cell(w=0,h=5,text=\"Dessa forma são necessários estudos que proporcionam a inclusão dos povos nativos no ensino superior.\")"
   ]
  },
  {
   "cell_type": "code",
   "execution_count": 34,
   "metadata": {},
   "outputs": [],
   "source": [
    "pdf.output('nss_py_project.pdf')"
   ]
  }
 ],
 "metadata": {
  "kernelspec": {
   "display_name": "Python 3",
   "language": "python",
   "name": "python3"
  },
  "language_info": {
   "codemirror_mode": {
    "name": "ipython",
    "version": 3
   },
   "file_extension": ".py",
   "mimetype": "text/x-python",
   "name": "python",
   "nbconvert_exporter": "python",
   "pygments_lexer": "ipython3",
   "version": "3.12.6"
  }
 },
 "nbformat": 4,
 "nbformat_minor": 2
}
